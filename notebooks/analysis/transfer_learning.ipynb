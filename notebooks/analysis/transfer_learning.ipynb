{
  "nbformat": 4,
  "nbformat_minor": 0,
  "metadata": {
    "colab": {
      "provenance": []
    },
    "kernelspec": {
      "name": "python3",
      "display_name": "Python 3"
    },
    "language_info": {
      "name": "python"
    }
  },
  "cells": [
    {
      "cell_type": "code",
      "execution_count": 1,
      "metadata": {
        "id": "MzXDG26637vg",
        "colab": {
          "base_uri": "https://localhost:8080/"
        },
        "outputId": "f79be7e7-5b89-4c93-f987-bb0d2d310a00"
      },
      "outputs": [
        {
          "output_type": "stream",
          "name": "stdout",
          "text": [
            "Looking in indexes: https://pypi.org/simple, https://us-python.pkg.dev/colab-wheels/public/simple/\n",
            "Requirement already satisfied: geopandas in /usr/local/lib/python3.8/dist-packages (0.12.2)\n",
            "Requirement already satisfied: packaging in /usr/local/lib/python3.8/dist-packages (from geopandas) (21.3)\n",
            "Requirement already satisfied: shapely>=1.7 in /usr/local/lib/python3.8/dist-packages (from geopandas) (2.0.0)\n",
            "Requirement already satisfied: pandas>=1.0.0 in /usr/local/lib/python3.8/dist-packages (from geopandas) (1.3.5)\n",
            "Requirement already satisfied: fiona>=1.8 in /usr/local/lib/python3.8/dist-packages (from geopandas) (1.8.22)\n",
            "Requirement already satisfied: pyproj>=2.6.1.post1 in /usr/local/lib/python3.8/dist-packages (from geopandas) (3.4.1)\n",
            "Requirement already satisfied: attrs>=17 in /usr/local/lib/python3.8/dist-packages (from fiona>=1.8->geopandas) (22.2.0)\n",
            "Requirement already satisfied: click>=4.0 in /usr/local/lib/python3.8/dist-packages (from fiona>=1.8->geopandas) (7.1.2)\n",
            "Requirement already satisfied: six>=1.7 in /usr/local/lib/python3.8/dist-packages (from fiona>=1.8->geopandas) (1.15.0)\n",
            "Requirement already satisfied: certifi in /usr/local/lib/python3.8/dist-packages (from fiona>=1.8->geopandas) (2022.12.7)\n",
            "Requirement already satisfied: click-plugins>=1.0 in /usr/local/lib/python3.8/dist-packages (from fiona>=1.8->geopandas) (1.1.1)\n",
            "Requirement already satisfied: munch in /usr/local/lib/python3.8/dist-packages (from fiona>=1.8->geopandas) (2.5.0)\n",
            "Requirement already satisfied: cligj>=0.5 in /usr/local/lib/python3.8/dist-packages (from fiona>=1.8->geopandas) (0.7.2)\n",
            "Requirement already satisfied: setuptools in /usr/local/lib/python3.8/dist-packages (from fiona>=1.8->geopandas) (57.4.0)\n",
            "Requirement already satisfied: pytz>=2017.3 in /usr/local/lib/python3.8/dist-packages (from pandas>=1.0.0->geopandas) (2022.7)\n",
            "Requirement already satisfied: python-dateutil>=2.7.3 in /usr/local/lib/python3.8/dist-packages (from pandas>=1.0.0->geopandas) (2.8.2)\n",
            "Requirement already satisfied: numpy>=1.17.3 in /usr/local/lib/python3.8/dist-packages (from pandas>=1.0.0->geopandas) (1.21.6)\n",
            "Requirement already satisfied: pyparsing!=3.0.5,>=2.0.2 in /usr/local/lib/python3.8/dist-packages (from packaging->geopandas) (3.0.9)\n"
          ]
        }
      ],
      "source": [
        "!pip install geopandas"
      ]
    },
    {
      "cell_type": "code",
      "source": [
        "!pip install rtree"
      ],
      "metadata": {
        "colab": {
          "base_uri": "https://localhost:8080/"
        },
        "id": "pHFngtcZ-6R5",
        "outputId": "cecb0387-2d16-4b86-bd07-9b959ec83193"
      },
      "execution_count": 2,
      "outputs": [
        {
          "output_type": "stream",
          "name": "stdout",
          "text": [
            "Looking in indexes: https://pypi.org/simple, https://us-python.pkg.dev/colab-wheels/public/simple/\n",
            "Requirement already satisfied: rtree in /usr/local/lib/python3.8/dist-packages (1.0.1)\n"
          ]
        }
      ]
    },
    {
      "cell_type": "code",
      "source": [
        "!pip install pygeos"
      ],
      "metadata": {
        "colab": {
          "base_uri": "https://localhost:8080/"
        },
        "id": "LtQ2x-Fc-7ap",
        "outputId": "335ea5cc-6e24-4f48-f25d-0e3a93cfd3db"
      },
      "execution_count": 3,
      "outputs": [
        {
          "output_type": "stream",
          "name": "stdout",
          "text": [
            "Looking in indexes: https://pypi.org/simple, https://us-python.pkg.dev/colab-wheels/public/simple/\n",
            "Requirement already satisfied: pygeos in /usr/local/lib/python3.8/dist-packages (0.14)\n",
            "Requirement already satisfied: numpy>=1.13 in /usr/local/lib/python3.8/dist-packages (from pygeos) (1.21.6)\n"
          ]
        }
      ]
    },
    {
      "cell_type": "code",
      "source": [
        "import pandas as pd\n",
        "import lightgbm as lgb\n",
        "import geopandas as gpd\n",
        "import rtree\n",
        "import pygeos\n",
        "import datetime"
      ],
      "metadata": {
        "colab": {
          "base_uri": "https://localhost:8080/"
        },
        "id": "iFbMKShQ-vCx",
        "outputId": "232b7781-1812-471d-d884-0f90e14cb6bb"
      },
      "execution_count": 4,
      "outputs": [
        {
          "output_type": "stream",
          "name": "stderr",
          "text": [
            "/usr/local/lib/python3.8/dist-packages/geopandas/_compat.py:123: UserWarning: The Shapely GEOS version (3.11.1-CAPI-1.17.1) is incompatible with the GEOS version PyGEOS was compiled with (3.10.4-CAPI-1.16.2). Conversions between both will be slow.\n",
            "  warnings.warn(\n",
            "<ipython-input-4-33908bcd5e6a>:3: UserWarning: Shapely 2.0 is installed, but because PyGEOS is also installed, GeoPandas will still use PyGEOS by default for now. To force to use and test Shapely 2.0, you have to set the environment variable USE_PYGEOS=0. You can do this before starting the Python process, or in your code before importing geopandas:\n",
            "\n",
            "import os\n",
            "os.environ['USE_PYGEOS'] = '0'\n",
            "import geopandas\n",
            "\n",
            "In a future release, GeoPandas will switch to using Shapely by default. If you are using PyGEOS directly (calling PyGEOS functions on geometries from GeoPandas), this will then stop working and you are encouraged to migrate from PyGEOS to Shapely 2.0 (https://shapely.readthedocs.io/en/latest/migration_pygeos.html).\n",
            "  import geopandas as gpd\n"
          ]
        }
      ]
    },
    {
      "cell_type": "code",
      "source": [
        "from google.colab import drive\n",
        "drive.mount('/content/drive')"
      ],
      "metadata": {
        "colab": {
          "base_uri": "https://localhost:8080/"
        },
        "id": "PjrAzLCAEehR",
        "outputId": "039b3ef2-8d69-4b3f-9596-29d218234fde"
      },
      "execution_count": 5,
      "outputs": [
        {
          "output_type": "stream",
          "name": "stdout",
          "text": [
            "Drive already mounted at /content/drive; to attempt to forcibly remount, call drive.mount(\"/content/drive\", force_remount=True).\n"
          ]
        }
      ]
    },
    {
      "cell_type": "code",
      "source": [
        "traffic_bordeaux = pd.read_csv('/content/drive/MyDrive/utd_19_bordeaux.csv')\n",
        "traffic_constance = pd.read_csv('/content/drive/MyDrive/utd_19_constance.csv')\n",
        "detectors = pd.read_csv('/content/drive/MyDrive/detectors_public.csv')"
      ],
      "metadata": {
        "id": "KwkbuQjC43HG"
      },
      "execution_count": 6,
      "outputs": []
    },
    {
      "cell_type": "code",
      "source": [
        "min_list = []\n",
        "for i in range(96):\n",
        "  min_list.append(i * 900)"
      ],
      "metadata": {
        "id": "R95GzZm2EqK3"
      },
      "execution_count": 7,
      "outputs": []
    },
    {
      "cell_type": "code",
      "source": [
        "traffic_bordeaux = traffic_bordeaux[['day', 'interval', 'flow', 'detid']]\n",
        "traffic_constance = traffic_constance[['day', 'interval', 'flow', 'detid']]"
      ],
      "metadata": {
        "id": "eEcJHLiAFXfQ"
      },
      "execution_count": 8,
      "outputs": []
    },
    {
      "cell_type": "code",
      "source": [
        "traffic_bordeaux = traffic_bordeaux[traffic_bordeaux['interval'].isin(min_list)]\n",
        "traffic_constance = traffic_constance[traffic_constance['interval'].isin(min_list)]"
      ],
      "metadata": {
        "id": "6u0zitUzFpvg"
      },
      "execution_count": 9,
      "outputs": []
    },
    {
      "cell_type": "code",
      "source": [
        "traffic_bordeaux['tdelta'] = traffic_bordeaux['interval'].round().apply(pd.to_timedelta, errors='coerce', unit='s')\n",
        "traffic_bordeaux['time'] = (pd.Timestamp('now').normalize() + traffic_bordeaux['tdelta']).dt.time\n",
        "traffic_bordeaux['time'] = traffic_bordeaux['time'].astype(str)\n",
        "traffic_bordeaux['datetime'] = pd.to_datetime(traffic_bordeaux['day'] + ' ' + traffic_bordeaux['time'])\n",
        "traffic_bordeaux = traffic_bordeaux[['datetime', 'flow', 'detid']]\n",
        "\n",
        "traffic_constance['tdelta'] = traffic_constance['interval'].round().apply(pd.to_timedelta, errors='coerce', unit='s')\n",
        "traffic_constance['time'] = (pd.Timestamp('now').normalize() + traffic_constance['tdelta']).dt.time\n",
        "traffic_constance['time'] = traffic_constance['time'].astype(str)\n",
        "traffic_constance['datetime'] = pd.to_datetime(traffic_constance['day'] + ' ' + traffic_constance['time'])\n",
        "traffic_constance = traffic_constance[['datetime', 'flow', 'detid']]"
      ],
      "metadata": {
        "id": "kXmUjycnIS9O"
      },
      "execution_count": 10,
      "outputs": []
    },
    {
      "cell_type": "code",
      "source": [
        "detectors = detectors[(detectors['citycode'] == 'constance') | (detectors['citycode'] == 'bordeaux')]"
      ],
      "metadata": {
        "id": "NB0y8T1FIEQY"
      },
      "execution_count": 11,
      "outputs": []
    },
    {
      "cell_type": "code",
      "source": [
        "detectors_bordeaux = detectors[(detectors['citycode'] == 'bordeaux')]\n",
        "detectors_constance = detectors[(detectors['citycode'] == 'constance')]"
      ],
      "metadata": {
        "id": "U54GMpHuXcSK"
      },
      "execution_count": 12,
      "outputs": []
    },
    {
      "cell_type": "code",
      "source": [
        "meteo_bordeaux = pd.read_csv('/content/drive/MyDrive/meteo_bordeaux.csv')\n",
        "meteo_constance = pd.read_csv('/content/drive/MyDrive/meteo_constance.csv')"
      ],
      "metadata": {
        "id": "SCTn_rkFYMmf"
      },
      "execution_count": 13,
      "outputs": []
    },
    {
      "cell_type": "code",
      "source": [
        "geo_bordeaux = pd.read_csv('/content/drive/MyDrive/geo_bordeaux.csv')\n",
        "geo_constance = pd.read_csv('/content/drive/MyDrive/geo_constance.csv')"
      ],
      "metadata": {
        "id": "8qT_vXUvmK3i"
      },
      "execution_count": 14,
      "outputs": []
    },
    {
      "cell_type": "code",
      "source": [
        "traffic_bordeaux['datetime'] = traffic_bordeaux['datetime'].astype('datetime64[ns]')\n",
        "meteo_bordeaux['time'] = meteo_bordeaux['time'].astype('datetime64[ns]')\n",
        "bord_traf_meteo = pd.merge(traffic_bordeaux, meteo_bordeaux, left_on='datetime', \\\n",
        "                          right_on='time', how='inner')\n",
        "bord_traf_geo_meteo = pd.merge(bord_traf_meteo, geo_bordeaux, on = 'detid')\n",
        "counts = bord_traf_geo_meteo['detid'].value_counts()\n",
        "counts = counts[counts > 668]\n",
        "\n",
        "\n"
      ],
      "metadata": {
        "id": "WlcSqIyynlDi"
      },
      "execution_count": 15,
      "outputs": []
    },
    {
      "cell_type": "code",
      "source": [
        "df_bordeaux = pd.DataFrame()\n",
        "for detid in bord_traf_geo_meteo['detid'].unique():\n",
        "  det_subset = bord_traf_geo_meteo[bord_traf_geo_meteo[\"detid\"] == detid]\n",
        "  det_subset = det_subset.sort_values(by='datetime')\n",
        "  int_list = det_subset['flow'].tolist()\n",
        "  int_mem = det_subset['flow'].tolist()\n",
        "  del int_list[:96] \n",
        "  del int_mem[-96:]\n",
        "  det_subset = det_subset.iloc[96:]\n",
        "  det_subset['int_mem'] = int_mem\n",
        "  det_subset['int'] = int_list\n",
        "  det_subset = det_subset.drop(columns = ['flow', 'datetime', 'time', 'detid'])\n",
        "  df_bordeaux = pd.concat([df_bordeaux, det_subset])"
      ],
      "metadata": {
        "id": "uFiGVHKSnteo"
      },
      "execution_count": 16,
      "outputs": []
    },
    {
      "cell_type": "code",
      "source": [
        "df_bordeaux.to_csv('/content/drive/MyDrive/df_bordeaux.csv')\n"
      ],
      "metadata": {
        "id": "1_S59QfcvEpC"
      },
      "execution_count": 17,
      "outputs": []
    },
    {
      "cell_type": "code",
      "source": [
        "traffic_constance['datetime'] = traffic_constance['datetime'].astype('datetime64[ns]')\n",
        "meteo_constance['time'] = meteo_constance['time'].astype('datetime64[ns]')\n",
        "const_traf_meteo = pd.merge(traffic_constance, meteo_constance, left_on='datetime', \\\n",
        "                          right_on='time', how='inner')\n",
        "const_traf_geo_meteo = pd.merge(const_traf_meteo, geo_constance, on = 'detid')\n",
        "counts = const_traf_geo_meteo['detid'].value_counts()\n",
        "#print(counts)\n",
        "counts = counts[counts > 668]"
      ],
      "metadata": {
        "id": "iu5YRSTkjtt7"
      },
      "execution_count": 18,
      "outputs": []
    },
    {
      "cell_type": "code",
      "source": [
        "df_constance = pd.DataFrame()\n",
        "for detid in const_traf_geo_meteo['detid'].unique():\n",
        "  det_subset = const_traf_geo_meteo[const_traf_geo_meteo[\"detid\"] == detid]\n",
        "  det_subset = det_subset.sort_values(by='datetime')\n",
        "  int_list = det_subset['flow'].tolist()\n",
        "  int_mem = det_subset['flow'].tolist()\n",
        "  del int_list[:96] \n",
        "  del int_mem[-96:]\n",
        "  det_subset = det_subset.iloc[96:]\n",
        "  det_subset['int_mem'] = int_mem\n",
        "  det_subset['int'] = int_list\n",
        "  det_subset = det_subset.drop(columns = ['flow', 'datetime', 'time', 'detid'])\n",
        "  df_constance = pd.concat([df_constance, det_subset])"
      ],
      "metadata": {
        "id": "Udu0yehEjugr"
      },
      "execution_count": 19,
      "outputs": []
    },
    {
      "cell_type": "code",
      "source": [
        "print(df_constance)"
      ],
      "metadata": {
        "colab": {
          "base_uri": "https://localhost:8080/"
        },
        "id": "Mh1inn61kT-b",
        "outputId": "0b5eabba-cf3d-4623-a185-c6689e218aef"
      },
      "execution_count": 20,
      "outputs": [
        {
          "output_type": "stream",
          "name": "stdout",
          "text": [
            "            u10       v10        t2m        ssr            tp  roads_1_25  \\\n",
            "96    -1.155001 -1.243369  269.89578  5027890.5  3.493857e-06         0.0   \n",
            "97    -1.130275 -1.198529  269.84240  3770918.0  2.620392e-06         0.0   \n",
            "98    -1.105549 -1.153689  269.78906  2513945.2  1.746928e-06         0.0   \n",
            "99    -1.080823 -1.108849  269.73570  1256972.6  8.734642e-07         0.0   \n",
            "100   -1.056098 -1.064009  269.68230        0.0  0.000000e+00         0.0   \n",
            "...         ...       ...        ...        ...           ...         ...   \n",
            "81613  1.450095  0.581100  273.98032  5449942.5  3.493857e-06         0.0   \n",
            "81614  1.460346  0.588313  273.81195  5449942.5  3.493857e-06         0.0   \n",
            "81615  1.470596  0.595526  273.64355  5449942.5  3.493857e-06         0.0   \n",
            "81616  1.480846  0.602738  273.47520  5449942.5  3.493857e-06         0.0   \n",
            "81617  1.491097  0.609951  273.30682  5449942.5  3.493857e-06         0.0   \n",
            "\n",
            "       residential_a_25  roads_3_25  residential_a_50  roads_3_100  \\\n",
            "96           648.982670   89.625529       6327.870597   872.704002   \n",
            "97           648.982670   89.625529       6327.870597   872.704002   \n",
            "98           648.982670   89.625529       6327.870597   872.704002   \n",
            "99           648.982670   89.625529       6327.870597   872.704002   \n",
            "100          648.982670   89.625529       6327.870597   872.704002   \n",
            "...                 ...         ...               ...          ...   \n",
            "81613         51.603286  177.435486       2184.096175  1123.121669   \n",
            "81614         51.603286  177.435486       2184.096175  1123.121669   \n",
            "81615         51.603286  177.435486       2184.096175  1123.121669   \n",
            "81616         51.603286  177.435486       2184.096175  1123.121669   \n",
            "81617         51.603286  177.435486       2184.096175  1123.121669   \n",
            "\n",
            "       roads_2_200   roads_1_500    parks_a_500   parks_a_1000  int_mem   int  \n",
            "96     1177.720709   4965.644735   20603.811262  192725.151524      0.0  43.2  \n",
            "97     1177.720709   4965.644735   20603.811262  192725.151524     19.2  24.0  \n",
            "98     1177.720709   4965.644735   20603.811262  192725.151524     12.0  16.8  \n",
            "99     1177.720709   4965.644735   20603.811262  192725.151524      0.0  24.0  \n",
            "100    1177.720709   4965.644735   20603.811262  192725.151524      0.0  27.6  \n",
            "...            ...           ...            ...            ...      ...   ...  \n",
            "81613  1942.728259  11023.724374  138731.544103  265401.586775     24.0   0.0  \n",
            "81614  1942.728259  11023.724374  138731.544103  265401.586775     39.6   7.2  \n",
            "81615  1942.728259  11023.724374  138731.544103  265401.586775      3.6   0.0  \n",
            "81616  1942.728259  11023.724374  138731.544103  265401.586775     32.4  48.0  \n",
            "81617  1942.728259  11023.724374  138731.544103  265401.586775     68.4   0.0  \n",
            "\n",
            "[69906 rows x 16 columns]\n"
          ]
        }
      ]
    },
    {
      "cell_type": "code",
      "source": [
        "df_constance.to_csv('/content/drive/MyDrive/df_constance.csv')\n"
      ],
      "metadata": {
        "id": "UGDbH9Ls9qyV"
      },
      "execution_count": 21,
      "outputs": []
    }
  ]
}