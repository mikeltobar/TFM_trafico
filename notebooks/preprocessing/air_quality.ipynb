{
 "cells": [
  {
   "cell_type": "code",
   "execution_count": 1,
   "id": "99633d27",
   "metadata": {},
   "outputs": [],
   "source": [
    "import pandas as pd\n",
    "import numpy as np\n",
    "from scipy.spatial.distance import euclidean\n",
    "import pickle"
   ]
  },
  {
   "cell_type": "code",
   "execution_count": 2,
   "id": "25daad3e",
   "metadata": {},
   "outputs": [],
   "source": [
    "# File reading\n",
    "\n",
    "estaciones_aire = pd.read_csv('C:/Users/Mikel/Desktop/Archivos/Estudios/Ciencia de Datos/TFM/Tercera iteración/datos_aire/estaciones_aire.csv')\n",
    "estaciones_trafico = pd.read_csv('C:/Users/Mikel/Desktop/estaciones_chamberi.csv')\n",
    "estaciones_trafico = estaciones_trafico[['id','utm_x', 'utm_y']]\n",
    "air = pd.read_csv('C:/Users/Mikel/Desktop/Archivos/Estudios/Ciencia de Datos/TFM/Tercera iteración/datos_aire/121.csv', sep = ';')"
   ]
  },
  {
   "cell_type": "code",
   "execution_count": 3,
   "id": "4d8f5c5d",
   "metadata": {},
   "outputs": [],
   "source": [
    "def nearest_station():\n",
    "    '''We check which air quality station is the nearest to each car traffic station'''\n",
    "    ids = list(estaciones_trafico['id'])\n",
    "    codigos = list(estaciones_aire['CODIGO_CORTO'])\n",
    "    aire_x = estaciones_aire['COORDENADA_X_ETRS89']\n",
    "    aire_y = estaciones_aire['COORDENADA_Y_ETRS89']\n",
    "    aire_coords = list(zip(aire_x, aire_y))\n",
    "    trafico_x = estaciones_trafico['utm_x']\n",
    "    trafico_y = estaciones_trafico['utm_y']\n",
    "    trafico_coords = list(zip(trafico_x, trafico_y))\n",
    "    ans_dict = {}\n",
    "    dist_dict = {}\n",
    "    # We measure euclidean distances with several nested loops\n",
    "    for i in range(0, len(trafico_coords)):\n",
    "        for c in range(0, len(aire_coords)):\n",
    "            dist = euclidean(aire_coords[c], trafico_coords[i])\n",
    "            if ids[i] not in dist_dict.keys():\n",
    "                dist_dict[ids[i]] = (dist, codigos[c])\n",
    "            if dist < dist_dict[ids[i]][0]:\n",
    "                dist_dict[ids[i]] = (dist, codigos[c])\n",
    "    nearest_list = []\n",
    "    for key, value in dist_dict.items():\n",
    "        ans_dict[key] = value[1]\n",
    "    return ans_dict"
   ]
  },
  {
   "cell_type": "code",
   "execution_count": 4,
   "id": "df292c10",
   "metadata": {},
   "outputs": [
    {
     "name": "stdout",
     "output_type": "stream",
     "text": [
      "{4417: 4, 3807: 4, 3846: 35, 4413: 35, 4412: 35, 4411: 4, 3407: 48, 3748: 48, 4440: 48, 3848: 35, 3847: 48, 4430: 48, 4450: 48, 4446: 48, 4428: 48, 4386: 4, 4389: 4, 4388: 4, 10605: 4, 4422: 4, 10023: 4, 4423: 4, 10057: 4, 10022: 4, 10217: 4, 4384: 4, 5130: 4, 4385: 4, 10604: 4, 4380: 4, 3747: 4, 10499: 4, 10498: 4, 3850: 8, 3851: 8, 4432: 48, 4431: 48, 3674: 48, 4449: 48, 4448: 48, 3562: 48, 4429: 48, 4447: 48, 4438: 48, 4452: 48, 4426: 48, 4451: 48, 4436: 48, 4442: 48, 4461: 48, 4398: 4, 4397: 4, 7067: 4, 4383: 4, 4410: 4, 4418: 4, 4407: 4, 4416: 4, 4408: 4, 4406: 4, 4414: 48, 4415: 48, 4404: 38, 4403: 38, 4409: 38, 4433: 38, 4421: 38, 3693: 38, 7018: 38, 4456: 38, 4427: 48, 4445: 48, 3622: 48, 4458: 48, 4459: 48, 4457: 48, 9965: 48, 9967: 48, 9963: 48, 9964: 48, 4405: 48, 4434: 48, 4453: 48, 4439: 48, 4441: 48, 4464: 38, 4455: 38, 5728: 38, 5712: 38, 7140: 38, 4454: 38, 5696: 38, 5710: 38, 5739: 48, 5714: 48, 5740: 48, 5713: 38, 5716: 48, 5741: 38, 5738: 38, 5717: 38, 5711: 38, 4469: 48, 4467: 48, 4465: 48, 4468: 48, 4460: 48, 4466: 48, 4462: 48, 7081: 48, 7082: 48, 5457: 48, 5472: 48, 4346: 4, 3745: 4, 4342: 4, 4369: 4, 4356: 4, 4375: 38, 3717: 38, 4425: 4, 10066: 4, 3694: 4, 10602: 4, 10603: 38, 4424: 38, 4419: 38, 9977: 38, 7069: 38, 7019: 38, 3619: 4, 4381: 38, 4379: 38, 3397: 38, 4475: 38, 3468: 38, 3469: 38, 10560: 38, 6979: 38, 4473: 38, 7020: 38, 3511: 38, 7021: 38, 3395: 38, 10985: 38, 4472: 38, 5778: 38, 3411: 38, 5777: 38, 3396: 38, 4471: 38, 3499: 38, 5774: 38, 5780: 38, 5775: 38, 5776: 38}\n"
     ]
    }
   ],
   "source": [
    "# We apply the function\n",
    "\n",
    "nearest = nearest_station()\n",
    "estaciones_trafico['nearest'] = nearest\n",
    "unique_stations = set(nearest.values())\n",
    "\n",
    "# We take a look at the stations that are included in the nearest stations\n",
    "print(nearest)"
   ]
  },
  {
   "cell_type": "code",
   "execution_count": 5,
   "id": "ac914f31",
   "metadata": {},
   "outputs": [],
   "source": [
    "def air_quality_reading(year):\n",
    "    '''Function to read the air quality file'''\n",
    "    base_path = 'C:/Users/Mikel/Desktop/Archivos/Estudios/Ciencia de Datos/TFM/Tercera iteración/datos_aire/'\n",
    "    return_df = pd.DataFrame()\n",
    "    if year == 2021:\n",
    "        file_marker = 121\n",
    "        ran_ge = 12\n",
    "    elif year == 2022:\n",
    "        file_marker = 122\n",
    "        ran_ge = 10\n",
    "    for i in range(ran_ge):\n",
    "        file_path = base_path + str(file_marker) +'.csv'\n",
    "        concat_df = pd.read_csv(file_path, sep = ';')\n",
    "        return_df = pd.concat([return_df, concat_df])\n",
    "        file_marker += 100\n",
    "    return(return_df)\n",
    "\n",
    "def air_quality_preprocessing(air, start, end, year):\n",
    "    '''Function to get the relevant info from the air quality file'''\n",
    "    return_dict = {}\n",
    "    air_subset = air[(air[\"ESTACION\"] == 4) | (air[\"ESTACION\"] == 8) | (air[\"ESTACION\"] == 35) \\\n",
    "                 | (air[\"ESTACION\"] == 38) | (air[\"ESTACION\"] == 48)]\n",
    "    air_subset = air_subset.drop(columns=['PROVINCIA', 'MUNICIPIO', 'PUNTO_MUESTREO'])\n",
    "    air_subset_magns = air_subset[(air_subset[\"MAGNITUD\"] == 7) | (air_subset[\"MAGNITUD\"] == 8) \\\n",
    "                             | (air_subset[\"MAGNITUD\"] == 12)]\n",
    "    stations = [4, 8, 35, 38, 48]\n",
    "    magns = [7, 8, 12]\n",
    "    if year == 2021:\n",
    "        z = 13\n",
    "    if year == 2022:\n",
    "        z = 11\n",
    "    months = list(range(1, z))\n",
    "    h_v = []\n",
    "    for i in range(1, 25):\n",
    "        if i < 10:\n",
    "            h = 'H0' + str(i)\n",
    "            v = 'V0' + str(i)\n",
    "        else:\n",
    "            h = 'H' + str(i)\n",
    "            v = 'V' + str(i)\n",
    "        h_v.append((h, v))\n",
    "    # Transposing of the dataframe\n",
    "    for station in stations:\n",
    "        air_subset_station = air_subset_magns[(air_subset_magns[\"ESTACION\"] == station)]\n",
    "        station_df = pd.DataFrame()\n",
    "        for magn in magns:\n",
    "            air_subset_station_magns = air_subset_station[(air_subset_station[\"MAGNITUD\"] == magn)]\n",
    "            magn_list = []\n",
    "            station_months = air_subset_station_magns['MES'].unique().tolist()\n",
    "            for month in months:\n",
    "                air_subset_month = air_subset_station_magns[(air_subset_station_magns[\"MES\"] == month)]\n",
    "                day_list = air_subset_month['DIA'].unique().tolist()\n",
    "                if month in [1, 3, 5, 7, 8, 10, 12]:\n",
    "                    days_month = list(range(1, 32))\n",
    "                elif month in [4, 6, 9, 11]:\n",
    "                    days_month = list(range(1, 31))\n",
    "                elif month == 2:\n",
    "                    days_month = list(range(1, 29))\n",
    "                if month not in station_months:\n",
    "                    for item in days_month:\n",
    "                        for j in range(24):\n",
    "                            magn_list.append(0)\n",
    "                    continue\n",
    "                last_day = days_month[-1]\n",
    "                for day in days_month:\n",
    "                    if day not in day_list:\n",
    "                        for k in range(24):\n",
    "                            magn_list.append(0)\n",
    "                    elif day in day_list:\n",
    "                        air_subset_day = air_subset_month[(air_subset_month[\"DIA\"] == day)]\n",
    "                        for item in h_v:\n",
    "                            if not air_subset_day.empty: \n",
    "                                h = air_subset_day.iloc[0][item[0]]\n",
    "                                v = air_subset_day.iloc[0][item[1]]\n",
    "                                if v == 'V':\n",
    "                                    magn_list.append(h)\n",
    "                                elif v != 'V':\n",
    "                                    magn_list.append(0)\n",
    "            station_df[magn] = magn_list\n",
    "        dater = pd.date_range(start = start, end = end, freq='H', closed='left')\n",
    "        station_df = station_df.set_index(dater)\n",
    "        return_dict[station] = station_df\n",
    "    return return_dict"
   ]
  },
  {
   "cell_type": "code",
   "execution_count": 6,
   "id": "99e7a952",
   "metadata": {},
   "outputs": [],
   "source": [
    "# We read and preprocess the air quality files\n",
    "\n",
    "air_2021 = air_quality_reading(2021)\n",
    "air_2022 = air_quality_reading(2022)\n",
    "air_dict_2021 = air_quality_preprocessing(air_2021, '1/1/2021', '1/1/2022', 2021)\n",
    "air_dict_2022 = air_quality_preprocessing(air_2022, '1/1/2022', '11/1/2022', 2022)"
   ]
  },
  {
   "cell_type": "code",
   "execution_count": 7,
   "id": "b29b1848",
   "metadata": {},
   "outputs": [],
   "source": [
    "# We organize the items as a dict\n",
    "\n",
    "air_dict = {}\n",
    "for key, df in air_dict_2021.items():\n",
    "    air_dict[key] = pd.concat([df, air_dict_2022[key]])"
   ]
  },
  {
   "cell_type": "code",
   "execution_count": 8,
   "id": "098f7261",
   "metadata": {},
   "outputs": [],
   "source": [
    "# We subset the desired stations\n",
    "\n",
    "estaciones_aire = estaciones_aire[(estaciones_aire[\"CODIGO_CORTO\"] == 4) | (estaciones_aire[\"CODIGO_CORTO\"] == 8) \\\n",
    "                                  | (estaciones_aire[\"CODIGO_CORTO\"] == 35) | (estaciones_aire[\"CODIGO_CORTO\"] == 38) \\\n",
    "                                  | (estaciones_aire[\"CODIGO_CORTO\"] == 48)]"
   ]
  },
  {
   "cell_type": "code",
   "execution_count": 9,
   "id": "026c188d",
   "metadata": {},
   "outputs": [],
   "source": [
    "# We create a dict with the nearest stations to each traffic station\n",
    "\n",
    "stations = [4, 8, 35, 38, 48]\n",
    "nearest_dist = {}\n",
    "nearest = {}\n",
    "x = list(estaciones_aire['COORDENADA_X_ETRS89'])\n",
    "y = list(estaciones_aire['COORDENADA_Y_ETRS89'])\n",
    "coords = list(zip(x, y))\n",
    "for i in range(0, len(coords)):\n",
    "    for j in range(0, len(coords)):\n",
    "        dist = euclidean(coords[i], coords[j])\n",
    "        if dist == 0:\n",
    "            continue\n",
    "        elif stations[i] not in nearest.keys():\n",
    "            nearest_dist[stations[i]] = dist\n",
    "            nearest[stations[i]] = stations[j] \n",
    "        elif dist < nearest[stations[i]]:\n",
    "            nearest_dist[stations[i]] = dist\n",
    "            nearest[stations[i]] = stations[j] "
   ]
  },
  {
   "cell_type": "code",
   "execution_count": 10,
   "id": "024e3b81",
   "metadata": {},
   "outputs": [],
   "source": [
    "# If a station has data missing, we will use another station's data\n",
    "\n",
    "air_dict_corrected = {}\n",
    "for key, df in air_dict.items():\n",
    "    corrected_df = pd.DataFrame()\n",
    "    sub_station = nearest[key]\n",
    "    corrected_df[7] = np.where((df[7] == 0), air_dict[sub_station][7], df[7])\n",
    "    corrected_df[8] = np.where((df[8] == 0), air_dict[sub_station][8], df[8])\n",
    "    corrected_df[12] = np.where((df[12] == 0), air_dict[sub_station][12], df[12])\n",
    "    corrected_df = corrected_df.set_index(df.index)\n",
    "    air_dict_corrected[key] = corrected_df"
   ]
  },
  {
   "cell_type": "code",
   "execution_count": 11,
   "id": "45412caa",
   "metadata": {},
   "outputs": [],
   "source": [
    "# We create the final dict\n",
    "\n",
    "air_dict_final = {}\n",
    "for key, df in air_dict_corrected.items():\n",
    "    df = df.asfreq(freq='15min')\n",
    "    df = df.interpolate(method='time')\n",
    "    air_dict_final[key] = df"
   ]
  },
  {
   "cell_type": "code",
   "execution_count": 12,
   "id": "5e6f9ea0",
   "metadata": {},
   "outputs": [],
   "source": [
    "# Exporting pickle\n",
    "\n",
    "with open('C:/Users/Mikel/Desktop/Archivos/Estudios/Ciencia de Datos/TFM/Tercera iteración/air_quality_dict.pickle' \\\n",
    "          , 'wb') as handle:\n",
    "    pickle.dump(air_dict_final, handle, protocol=pickle.HIGHEST_PROTOCOL)\n",
    "    \n",
    "with open('C:/Users/Mikel/Desktop/Archivos/Estudios/Ciencia de Datos/TFM/Tercera iteración/nearest_dict.pickle' \\\n",
    "          , 'wb') as handle:\n",
    "    pickle.dump(nearest, handle, protocol=pickle.HIGHEST_PROTOCOL)"
   ]
  }
 ],
 "metadata": {
  "kernelspec": {
   "display_name": "tfm_mikel",
   "language": "python",
   "name": "tfm_mikel"
  },
  "language_info": {
   "codemirror_mode": {
    "name": "ipython",
    "version": 3
   },
   "file_extension": ".py",
   "mimetype": "text/x-python",
   "name": "python",
   "nbconvert_exporter": "python",
   "pygments_lexer": "ipython3",
   "version": "3.7.12"
  }
 },
 "nbformat": 4,
 "nbformat_minor": 5
}
