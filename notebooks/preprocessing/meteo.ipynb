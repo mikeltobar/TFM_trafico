{
 "cells": [
  {
   "cell_type": "code",
   "execution_count": 1,
   "id": "6041aa27",
   "metadata": {},
   "outputs": [],
   "source": [
    "import cdsapi\n",
    "import netCDF4 as nc\n",
    "import numpy as np\n",
    "import pandas as pd\n",
    "import xarray as xr\n",
    "import pickle"
   ]
  },
  {
   "cell_type": "code",
   "execution_count": null,
   "id": "82b91e95",
   "metadata": {},
   "outputs": [],
   "source": [
    "# Madrid\n",
    "\n",
    "c = cdsapi.Client()\n",
    "\n",
    "c.retrieve(\n",
    "    'reanalysis-era5-land',\n",
    "    {\n",
    "        'variable': [\n",
    "            '10m_u_component_of_wind', '10m_v_component_of_wind', '2m_temperature',\n",
    "            'surface_net_solar_radiation', 'total_precipitation',\n",
    "        ],\n",
    "        'year': [\n",
    "            '2021', '2022',\n",
    "        ],\n",
    "        'month': [\n",
    "            '01', '02', '03',\n",
    "            '04', '05', '06',\n",
    "            '07', '08', '09',\n",
    "            '10', '11', '12',\n",
    "        ],\n",
    "        'day': [\n",
    "            '01', '02', '03',\n",
    "            '04', '05', '06',\n",
    "            '07', '08', '09',\n",
    "            '10', '11', '12',\n",
    "            '13', '14', '15',\n",
    "            '16', '17', '18',\n",
    "            '19', '20', '21',\n",
    "            '22', '23', '24',\n",
    "            '25', '26', '27',\n",
    "            '28', '29', '30',\n",
    "            '31',\n",
    "        ],\n",
    "        'time': [\n",
    "            '00:00', '01:00', '02:00',\n",
    "            '03:00', '04:00', '05:00',\n",
    "            '06:00', '07:00', '08:00',\n",
    "            '09:00', '10:00', '11:00',\n",
    "            '12:00', '13:00', '14:00',\n",
    "            '15:00', '16:00', '17:00',\n",
    "            '18:00', '19:00', '20:00',\n",
    "            '21:00', '22:00', '23:00',\n",
    "        ],\n",
    "        'area': [\n",
    "            40.5, -3.8, 40.4,\n",
    "            -3.6,\n",
    "        ],\n",
    "        'format': 'netcdf.zip',\n",
    "    },\n",
    "    'download.netcdf.zip')"
   ]
  },
  {
   "cell_type": "code",
   "execution_count": null,
   "id": "b0f060d3",
   "metadata": {},
   "outputs": [],
   "source": [
    "# Bordeaux\n",
    "\n",
    "c = cdsapi.Client()\n",
    "\n",
    "c.retrieve(\n",
    "    'reanalysis-era5-land',\n",
    "    {\n",
    "        'variable': [\n",
    "            '10m_u_component_of_wind', '10m_v_component_of_wind', '2m_temperature',\n",
    "            'surface_net_solar_radiation', 'total_precipitation',\n",
    "        ],\n",
    "        'year': [\n",
    "            '2016',\n",
    "        ],\n",
    "        'month': [\n",
    "            '11'\n",
    "        ],\n",
    "        'day': [\n",
    "            '21','22', '23', \n",
    "            '24','25', '26', \n",
    "            '27'\n",
    "        ],\n",
    "        'time': [\n",
    "            '00:00', '01:00', '02:00',\n",
    "            '03:00', '04:00', '05:00',\n",
    "            '06:00', '07:00', '08:00',\n",
    "            '09:00', '10:00', '11:00',\n",
    "            '12:00', '13:00', '14:00',\n",
    "            '15:00', '16:00', '17:00',\n",
    "            '18:00', '19:00', '20:00',\n",
    "            '21:00', '22:00', '23:00',\n",
    "        ],\n",
    "        'area': [\n",
    "            44.8, -0.6, 44.8,\n",
    "            -0.6,\n",
    "        ],\n",
    "        'format': 'netcdf.zip',\n",
    "    },\n",
    "    'download.netcdf.zip')"
   ]
  },
  {
   "cell_type": "code",
   "execution_count": null,
   "id": "1a95b896",
   "metadata": {},
   "outputs": [],
   "source": [
    "# Constance\n",
    "\n",
    "c = cdsapi.Client()\n",
    "\n",
    "c.retrieve(\n",
    "    'reanalysis-era5-land',\n",
    "    {\n",
    "        'variable': [\n",
    "            '10m_u_component_of_wind', '10m_v_component_of_wind', '2m_temperature',\n",
    "            'surface_net_solar_radiation', 'total_precipitation',\n",
    "        ],\n",
    "        'year': [\n",
    "            '2017',\n",
    "        ],\n",
    "        'month': [\n",
    "            '2'\n",
    "        ],\n",
    "        'day': [\n",
    "            '13','14', '15', \n",
    "            '16','17', '18', \n",
    "            '19'\n",
    "        ],\n",
    "        'time': [\n",
    "            '00:00', '01:00', '02:00',\n",
    "            '03:00', '04:00', '05:00',\n",
    "            '06:00', '07:00', '08:00',\n",
    "            '09:00', '10:00', '11:00',\n",
    "            '12:00', '13:00', '14:00',\n",
    "            '15:00', '16:00', '17:00',\n",
    "            '18:00', '19:00', '20:00',\n",
    "            '21:00', '22:00', '23:00',\n",
    "        ],\n",
    "        'area': [\n",
    "            47.7, 9.2, 47.7,\n",
    "            9.2,\n",
    "        ],\n",
    "        'format': 'netcdf.zip',\n",
    "    },\n",
    "    'download.netcdf.zip')"
   ]
  },
  {
   "cell_type": "code",
   "execution_count": 2,
   "id": "705b8f43",
   "metadata": {},
   "outputs": [],
   "source": [
    "def dataframe_generator(filenames):\n",
    "    '''Creates a unique pandas dataframe from each atmospheric data file. Takes a list of strings\n",
    "    (the filenames containing atmospheric data).'''\n",
    "    # We create a basepath with the filenames. It will be outputed to a pandas df using the xarray library.\n",
    "    base_folder = 'C:/Users/Mikel/Desktop/'\n",
    "    final_df = pd.DataFrame()\n",
    "    for file in filenames:\n",
    "        file_path = base_folder + file\n",
    "        ds = xr.open_dataset(file_path)\n",
    "        df = ds.to_dataframe()\n",
    "        final_df = pd.concat([final_df, df])\n",
    "    return final_df"
   ]
  },
  {
   "cell_type": "code",
   "execution_count": 3,
   "id": "d20b56b3",
   "metadata": {},
   "outputs": [],
   "source": [
    "# Creation of main df\n",
    "\n",
    "df = dataframe_generator(['data.nc'])\n",
    "df.dropna(inplace = True)"
   ]
  },
  {
   "cell_type": "code",
   "execution_count": 4,
   "id": "6ebc3dfa",
   "metadata": {},
   "outputs": [
    {
     "data": {
      "text/plain": [
       "A    156\n",
       "Name: sector, dtype: int64"
      ]
     },
     "execution_count": 4,
     "metadata": {},
     "output_type": "execute_result"
    }
   ],
   "source": [
    "# Given the stations' geographical distribution, they could be associated with the (40.4, -3.7) point \n",
    "# or the (40.5, -3.7) point (in lat, long). We'll check if there is \n",
    "\n",
    "stations = pd.read_csv('C:/Users/Mikel/Desktop/estaciones.csv')\n",
    "stations['sector'] = np.where((stations['latitud'] < 40.45 ) , 'A', 'B')\n",
    "stations['sector'].value_counts()"
   ]
  },
  {
   "cell_type": "code",
   "execution_count": 5,
   "id": "c541b670",
   "metadata": {},
   "outputs": [],
   "source": [
    "# The stations will therefore be associated to the (40.4, -3.7) point.\n",
    "\n",
    "df = df.query('longitude == -3.700000047683716 and latitude == 40.400001525878906')\n",
    "df = df.reset_index()\n",
    "df = df[['time', 'u10', 'v10', 't2m', 'ssr', 'tp']]\n",
    "df = df.set_index('time')\n",
    "df = df.asfreq(freq='15min')\n",
    "df = df.interpolate(method='time')"
   ]
  },
  {
   "cell_type": "code",
   "execution_count": 6,
   "id": "a4fa6239",
   "metadata": {},
   "outputs": [],
   "source": [
    "# Exporting the df\n",
    "\n",
    "filepath = 'C:/Users/Mikel/Desktop/Archivos/Estudios/Ciencia de Datos/TFM/Tercera iteración/meteo.csv'\n",
    "df.to_csv(filepath)"
   ]
  },
  {
   "cell_type": "code",
   "execution_count": 7,
   "id": "a9b7b190",
   "metadata": {},
   "outputs": [],
   "source": [
    "# Datasets for transfer learning\n",
    "\n",
    "df_bordeaux = dataframe_generator(['data_bordeaux.nc'])\n",
    "df_bordeaux.dropna(inplace = True)\n",
    "\n",
    "df_constance = dataframe_generator(['data_const.nc'])\n",
    "df_constance.dropna(inplace = True)"
   ]
  },
  {
   "cell_type": "code",
   "execution_count": 8,
   "id": "b5e50965",
   "metadata": {},
   "outputs": [],
   "source": [
    "# Resampling\n",
    "\n",
    "df_bordeaux = df_bordeaux.reset_index()\n",
    "df_bordeaux = df_bordeaux[['time', 'u10', 'v10', 't2m', 'ssr', 'tp']]\n",
    "df_bordeaux = df_bordeaux.set_index('time')\n",
    "df_bordeaux = df_bordeaux.asfreq(freq='15min')\n",
    "df_bordeaux = df_bordeaux.interpolate(method='time')\n",
    "\n",
    "df_constance = df_constance.reset_index()\n",
    "df_constance = df_constance[['time', 'u10', 'v10', 't2m', 'ssr', 'tp']]\n",
    "df_constance = df_constance.set_index('time')\n",
    "df_constance = df_constance.asfreq(freq='15min')\n",
    "df_constance = df_constance.interpolate(method='time')"
   ]
  },
  {
   "cell_type": "code",
   "execution_count": 9,
   "id": "c6f52610",
   "metadata": {},
   "outputs": [],
   "source": [
    "# Exporting the dfs\n",
    "\n",
    "\n",
    "filepath = 'C:/Users/Mikel/Desktop/Archivos/Estudios/Ciencia de Datos/TFM/Tercera iteración/meteo_bordeaux.csv'\n",
    "df_bordeaux.to_csv(filepath)\n",
    "\n",
    "filepath = 'C:/Users/Mikel/Desktop/Archivos/Estudios/Ciencia de Datos/TFM/Tercera iteración/meteo_constance.csv'\n",
    "df_constance.to_csv(filepath)"
   ]
  }
 ],
 "metadata": {
  "kernelspec": {
   "display_name": "Python 3 (ipykernel)",
   "language": "python",
   "name": "python3"
  },
  "language_info": {
   "codemirror_mode": {
    "name": "ipython",
    "version": 3
   },
   "file_extension": ".py",
   "mimetype": "text/x-python",
   "name": "python",
   "nbconvert_exporter": "python",
   "pygments_lexer": "ipython3",
   "version": "3.8.0"
  }
 },
 "nbformat": 4,
 "nbformat_minor": 5
}
